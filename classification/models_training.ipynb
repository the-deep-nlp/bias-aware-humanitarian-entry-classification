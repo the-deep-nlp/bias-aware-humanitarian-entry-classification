{
 "cells": [
  {
   "cell_type": "code",
   "execution_count": null,
   "metadata": {},
   "outputs": [],
   "source": [
    "!pip install -r requirements.txt --quiet"
   ]
  },
  {
   "cell_type": "code",
   "execution_count": 8,
   "metadata": {},
   "outputs": [],
   "source": [
    "import pandas as pd\n",
    "from datasets import load_dataset\n",
    "import os\n",
    "import sys\n",
    "sys.path.append('src')\n",
    "from pipeline import TrainingPipeline\n",
    "import torch"
   ]
  },
  {
   "cell_type": "code",
   "execution_count": 9,
   "metadata": {},
   "outputs": [],
   "source": [
    "dataset = load_dataset('nlp-thedeep/humset')"
   ]
  },
  {
   "cell_type": "code",
   "execution_count": null,
   "metadata": {},
   "outputs": [],
   "source": [
    "def _preprocess_df(df: pd.DataFrame):\n",
    "    targets = []\n",
    "    targets += [f\"first_level_tags->sectors->{item}\" for item in df['sectors']]\n",
    "    targets += [f\"first_level_tags->pillars_2d->{item}\" for item in df['pillars_2d']]\n",
    "    targets += [f\"first_level_tags->pillars_1d->{item}\" for item in df['pillars_1d']]\n",
    "    targets += [f\"subpillars_1d->{item}\" for item in df['subpillars_1d']]\n",
    "    targets += [f\"subpillars_2d->{item}\" for item in df['subpillars_2d']]\n",
    "    return targets"
   ]
  },
  {
   "cell_type": "code",
   "execution_count": null,
   "metadata": {},
   "outputs": [],
   "source": [
    "sample = False\n",
    "relevant_cols = ['entry_id', 'excerpt', 'targets', 'lang']\n",
    "\n",
    "train_df = pd.DataFrame(dataset['train'])\n",
    "val_df = pd.DataFrame(dataset['validation'])\n",
    "test_df = pd.DataFrame(dataset['test'])\n",
    "\n",
    "train_df['targets'] = train_df.apply(_preprocess_df, axis=1)\n",
    "val_df['targets'] = val_df.apply(_preprocess_df, axis=1)\n",
    "test_df['targets'] = test_df.apply(_preprocess_df, axis=1)\n",
    "\n",
    "train_df = train_df[relevant_cols]\n",
    "val_df = val_df[relevant_cols]\n",
    "test_df = test_df[relevant_cols]\n",
    "\n",
    "if sample: \n",
    "    train_df = train_df.sample(frac=0.05)\n",
    "    val_df = val_df.sample(frac=0.1)\n",
    "    test_df = test_df.sample(frac=0.1)"
   ]
  },
  {
   "cell_type": "code",
   "execution_count": null,
   "metadata": {},
   "outputs": [],
   "source": [
    "relevant_classification_results_cols = [\n",
    "    \"mean->first_level_tags->pillars_1d\",\n",
    "    \"mean->first_level_tags->pillars_2d\",\n",
    "    \"mean->first_level_tags->sectors\",\n",
    "    \"mean->subpillars_1d\",\n",
    "    \"mean->subpillars_2d\",\n",
    "]\n",
    "final_cols_classification = [\n",
    "    \"backbone_name\",\n",
    "    \"training_setup\",\n",
    "    \"architecture_setup\",\n",
    "    \"tag\",\n",
    "    \"precision\",\n",
    "    \"f_score\",\n",
    "]\n",
    "\n",
    "train_hyperparams = {\n",
    "    \"max_len\": 200, #not the max to optimize computation time.\n",
    "    \"delete_long_excerpts\": \"false\",\n",
    "    \"apply_preprocessing\": \"true\",\n",
    "    \"explainability\": \"false\",\n",
    "    \"n_epochs\": 1 if sample  else 3,\n",
    "    \"dropout\": 0.2,\n",
    "    \"learning_rate\": 3e-5,\n",
    "    \"weight_decay\": 1e-2,\n",
    "    \"train_batch_size\": 8,\n",
    "    \"val_batch_size\": 16,\n",
    "    \"n_freezed_layers\": 1,\n",
    "    \"n_mid_layers\": 1,\n",
    "    \"output_data_dir\": 'results',\n",
    "    \"model_dir\": \"results/models\"\n",
    "}\n",
    "\n",
    "output_dir = \"outputs\"\n",
    "if not os.path.exists(output_dir):\n",
    "    os.mkdir(output_dir)"
   ]
  },
  {
   "cell_type": "code",
   "execution_count": null,
   "metadata": {},
   "outputs": [],
   "source": [
    "architecture_setups = [\"base_architecture\", \"multiabel_architecture\"]\n",
    "training_setups = [\"counterfactual_debiasing\", \"no_debiasing\"]\n",
    "backbone_names = [\n",
    "    \"xlm-roberta-base\",\n",
    "    \"nlp-thedeep/humbert\",\n",
    "    \"bert-base-multilingual-cased\",\n",
    "    # \"nreimers/mMiniLMv2-L6-H384-distilled-from-XLMR-Large\" # distilled model for test and debugging\n",
    "]\n",
    "bias_measurement_methods = [\n",
    "    \"probability_discrepency\",\n",
    "]\n",
    "\n",
    "classification_results_df = pd.DataFrame()\n",
    "overall_results_df = pd.DataFrame()\n",
    "\n",
    "for one_backbone_name in backbone_names:\n",
    "    for one_training_setup in training_setups:\n",
    "        for one_architecture_setup in architecture_setups:\n",
    "            pipeline = TrainingPipeline(\n",
    "                train_hyperparams,\n",
    "                train_df,\n",
    "                val_df,\n",
    "                test_df,\n",
    "                architecture_setup=one_architecture_setup,\n",
    "                training_setup=one_training_setup,\n",
    "                backbone_name=one_backbone_name,\n",
    "                results_dir=\"results\",\n",
    "                humbias_set_dir=\"humbias_set\",\n",
    "            )\n",
    "            # save training model\n",
    "            os.makedirs(train_hyperparams[\"model_dir\"], exist_ok=True)\n",
    "\n",
    "            torch.save(\n",
    "                pipeline.model,\n",
    "                os.path.join(train_hyperparams[\"model_dir\"], pipeline.results_name),\n",
    "            )\n",
    "\n",
    "            test_set_results = pipeline.test_set_results\n",
    "            f1score_result = test_set_results[\n",
    "                test_set_results.tag == \"mean->first_level_tags\"\n",
    "            ].f_score.values[0]\n",
    "\n",
    "            relevant_classification_results = pipeline.test_set_results\n",
    "            relevant_classification_results = relevant_classification_results[\n",
    "                relevant_classification_results.tag.isin(\n",
    "                    relevant_classification_results_cols\n",
    "                )\n",
    "            ].copy()\n",
    "            relevant_classification_results[\"backbone_name\"] = one_backbone_name\n",
    "            relevant_classification_results[\"training_setup\"] = one_training_setup\n",
    "            relevant_classification_results[\n",
    "                \"architecture_setup\"\n",
    "            ] = one_architecture_setup\n",
    "\n",
    "            relevant_classification_results = relevant_classification_results[\n",
    "                final_cols_classification\n",
    "            ]\n",
    "            classification_results_df = pd.concat(\n",
    "                [classification_results_df, relevant_classification_results]\n",
    "            )\n",
    "\n",
    "            pipeline.get_counterfactual_predictions_discrepency_results()"
   ]
  },
  {
   "cell_type": "code",
   "execution_count": null,
   "metadata": {},
   "outputs": [],
   "source": []
  }
 ],
 "metadata": {
  "kernelspec": {
   "display_name": "Python 3.9.1 ('deepl')",
   "language": "python",
   "name": "python3"
  },
  "language_info": {
   "codemirror_mode": {
    "name": "ipython",
    "version": 3
   },
   "file_extension": ".py",
   "mimetype": "text/x-python",
   "name": "python",
   "nbconvert_exporter": "python",
   "pygments_lexer": "ipython3",
   "version": "3.9.1"
  },
  "vscode": {
   "interpreter": {
    "hash": "8a5ddf8e25d962f331e8059973cfd97c5aef9d0ccfdd243943e9f1f512e91043"
   }
  }
 },
 "nbformat": 4,
 "nbformat_minor": 2
}
